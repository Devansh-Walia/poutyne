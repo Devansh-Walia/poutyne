{
 "cells": [
  {
   "cell_type": "code",
   "execution_count": 1,
   "metadata": {},
   "outputs": [
    {
     "name": "stdout",
     "output_type": "stream",
     "text": [
      "\u001b[33mWARNING: Keyring is skipped due to an exception: Failed to unlock the collection!\u001b[0m\n",
      "\u001b[33mWARNING: Keyring is skipped due to an exception: Failed to unlock the collection!\u001b[0m\n",
      "Requirement already up-to-date: poutyne in /home/fredy/.venv/base/lib/python3.8/site-packages (1.0.0)\n",
      "Requirement already satisfied, skipping upgrade: torch in /home/fredy/.venv/base/lib/python3.8/site-packages (from poutyne) (1.6.0)\n",
      "Requirement already satisfied, skipping upgrade: numpy in /home/fredy/.venv/base/lib/python3.8/site-packages (from poutyne) (1.18.5)\n",
      "Requirement already satisfied, skipping upgrade: future in /home/fredy/.venv/base/lib/python3.8/site-packages (from torch->poutyne) (0.18.2)\n",
      "Note: you may need to restart the kernel to use updated packages.\n"
     ]
    }
   ],
   "source": [
    "%pip install --upgrade poutyne # to install lastest poutyne version, if it's not already\n",
    "import math\n",
    "import os\n",
    "import tarfile\n",
    "import urllib.request\n",
    "from shutil import copyfile\n",
    "\n",
    "import matplotlib.pyplot as plt\n",
    "import numpy as np\n",
    "import pandas as pd\n",
    "import torch\n",
    "import torch.nn as nn\n",
    "import torch.optim as optim\n",
    "import torchvision.models as models\n",
    "from torch.utils import model_zoo\n",
    "from torch.utils.data import DataLoader\n",
    "from torchvision import transforms\n",
    "from torchvision.datasets import ImageFolder\n",
    "\n",
    "from poutyne import set_seeds, Model, ModelCheckpoint, CSVLogger, Experiment"
   ]
  },
  {
   "cell_type": "markdown",
   "metadata": {
    "pycharm": {
     "name": "#%% md\n"
    }
   },
   "source": [
    "Also, we need to set Pythons's, NumPy's and PyTorch's seeds by using Poutyne function so that our training is (almost) reproducible."
   ]
  },
  {
   "cell_type": "code",
   "execution_count": 2,
   "metadata": {
    "pycharm": {
     "name": "#%%\n"
    }
   },
   "outputs": [],
   "source": [
    "set_seeds(42)"
   ]
  },
  {
   "cell_type": "code",
   "execution_count": 3,
   "metadata": {},
   "outputs": [],
   "source": [
    "def download_and_extract_dataset(path):\n",
    "    os.makedirs(path, exist_ok=True)\n",
    "    tgz_filename = os.path.join(path, \"images.tgz\")\n",
    "    \n",
    "    print(\"Downloading dataset...\")\n",
    "    urllib.request.urlretrieve(\"https://graal.ift.ulaval.ca/public/CUB200.tgz\", tgz_filename)\n",
    "    print(\"Extracting archive...\")\n",
    "    archive = tarfile.open(tgz_filename)\n",
    "    archive.extractall(path)"
   ]
  },
  {
   "cell_type": "code",
   "execution_count": 4,
   "metadata": {},
   "outputs": [],
   "source": [
    "def copy(source_path, filenames, dest_path):\n",
    "    for filename in filenames:\n",
    "        source = os.path.join(source_path, filename)\n",
    "        dest = os.path.join(dest_path, filename)\n",
    "        copyfile(source, dest)\n",
    "\n",
    "def split_train_valid_test(dataset_path, train_path, valid_path, test_path, train_split=0.6, valid_split=0.2): # test_split=0.2\n",
    "    for classname in sorted(os.listdir(dataset_path)):\n",
    "        if classname.startswith('.'):\n",
    "            continue\n",
    "        train_class_path = os.path.join(train_path, classname)\n",
    "        valid_class_path = os.path.join(valid_path, classname)\n",
    "        test_class_path = os.path.join(test_path, classname)\n",
    "\n",
    "        os.makedirs(train_class_path, exist_ok=True)\n",
    "        os.makedirs(valid_class_path, exist_ok=True)\n",
    "        os.makedirs(test_class_path, exist_ok=True)\n",
    "\n",
    "        dataset_class_path = os.path.join(dataset_path, classname)\n",
    "        filenames = sorted(filename for filename in os.listdir(dataset_class_path) if not filename.startswith('.'))\n",
    "        np.random.shuffle(filenames)\n",
    "\n",
    "        num_examples = len(filenames)\n",
    "        train_last_idx = math.ceil(num_examples*train_split)\n",
    "        valid_last_idx = train_last_idx + math.floor(num_examples*valid_split)\n",
    "        train_filenames = filenames[0:train_last_idx]\n",
    "        valid_filenames = filenames[train_last_idx:valid_last_idx]\n",
    "        test_filenames = filenames[valid_last_idx:]\n",
    "        copy(dataset_class_path, train_filenames, train_class_path)\n",
    "        copy(dataset_class_path, valid_filenames, valid_class_path)\n",
    "        copy(dataset_class_path, test_filenames, test_class_path)"
   ]
  },
  {
   "cell_type": "markdown",
   "metadata": {
    "pycharm": {
     "name": "#%% md\n"
    }
   },
   "source": [
    "We do the split train/valid/test."
   ]
  },
  {
   "cell_type": "code",
   "execution_count": 5,
   "metadata": {},
   "outputs": [],
   "source": [
    "base_path = './datasets/CUB200'\n",
    "dataset_path = os.path.join(base_path, 'images')\n",
    "train_path = os.path.join(base_path, 'train')\n",
    "valid_path = os.path.join(base_path, 'valid')\n",
    "test_path = os.path.join(base_path, 'test')"
   ]
  },
  {
   "cell_type": "code",
   "execution_count": 6,
   "metadata": {},
   "outputs": [
    {
     "name": "stdout",
     "output_type": "stream",
     "text": [
      "Downloading dataset...\n",
      "Extracting archive...\n"
     ]
    }
   ],
   "source": [
    "download_and_extract_dataset(base_path)\n",
    "split_train_valid_test(dataset_path, train_path, valid_path, test_path)"
   ]
  },
  {
   "cell_type": "markdown",
   "metadata": {
    "pycharm": {
     "name": "#%% md\n"
    }
   },
   "source": [
    "Now, let's set our training constants. We first have the CUDA device used for training if one is present. Secondly, we set the number of classes (i.e. one for each number). Finally, we set the batch size (i.e. the number of elements to see before updating the model), the learning rate for the optimizer, and the number of epochs (i.e. the number of times we see the full dataset).\n"
   ]
  },
  {
   "cell_type": "code",
   "execution_count": 7,
   "metadata": {
    "pycharm": {
     "name": "#%%\n"
    }
   },
   "outputs": [],
   "source": [
    "# Training constants\n",
    "cuda_device = 0\n",
    "device = torch.device(\"cuda:%d\" % cuda_device if torch.cuda.is_available() else \"cpu\")\n",
    "\n",
    "num_classes = 200\n",
    "batch_size = 64\n",
    "learning_rate = 0.1\n",
    "n_epoch = 30"
   ]
  },
  {
   "cell_type": "markdown",
   "metadata": {},
   "source": [
    "Creation of the PyTorch's datasets for our problem."
   ]
  },
  {
   "cell_type": "code",
   "execution_count": 8,
   "metadata": {},
   "outputs": [],
   "source": [
    "norm_coefs = {}\n",
    "norm_coefs['cub200'] = [(0.47421962,  0.4914721 ,  0.42382449), (0.22846779,  0.22387765,  0.26495799)]\n",
    "norm_coefs['imagenet'] = [(0.485, 0.456, 0.406), (0.229, 0.224, 0.225)]\n",
    "transform = transforms.Compose([\n",
    "    transforms.Resize((224,224)),\n",
    "    transforms.ToTensor(),\n",
    "    transforms.Normalize(*norm_coefs['cub200'])\n",
    "])\n",
    "\n",
    "train_set = ImageFolder(train_path, transform=transform)\n",
    "valid_set = ImageFolder(valid_path, transform=transform)\n",
    "test_set = ImageFolder(test_path, transform=transform)\n",
    "\n",
    "train_loader = DataLoader(train_set, batch_size=batch_size, num_workers=8, shuffle=True)\n",
    "valid_loader = DataLoader(valid_set, batch_size=batch_size, num_workers=8)\n",
    "test_loader = DataLoader(test_set, batch_size=batch_size, num_workers=8)"
   ]
  },
  {
   "cell_type": "markdown",
   "metadata": {},
   "source": [
    "We load a pretrained `ResNet-18` networks and replace the head with the number of neurons equal to our number of classes."
   ]
  },
  {
   "cell_type": "code",
   "execution_count": 9,
   "metadata": {
    "scrolled": false
   },
   "outputs": [],
   "source": [
    "resnet18 = models.resnet18(pretrained=True)\n",
    "resnet18.fc = nn.Linear(resnet18.fc.in_features, num_classes)"
   ]
  },
  {
   "cell_type": "markdown",
   "metadata": {},
   "source": [
    "We freeze the network except for its head."
   ]
  },
  {
   "cell_type": "code",
   "execution_count": 10,
   "metadata": {},
   "outputs": [],
   "source": [
    "def freeze_weights(resnet18):\n",
    "    for name, param in resnet18.named_parameters():\n",
    "        if not name.startswith('fc.'):\n",
    "            param.requires_grad = False\n",
    "\n",
    "freeze_weights(resnet18)"
   ]
  },
  {
   "cell_type": "markdown",
   "metadata": {
    "pycharm": {
     "name": "#%% md\n"
    }
   },
   "source": [
    "We define callbacks for saving last epoch, best epoch and logging the results."
   ]
  },
  {
   "cell_type": "code",
   "execution_count": 11,
   "metadata": {
    "pycharm": {
     "name": "#%%\n"
    }
   },
   "outputs": [],
   "source": [
    "# We are saving everything into ./saves/cub200.\n",
    "save_base_dir = 'saves'\n",
    "save_path = os.path.join(save_base_dir, 'cub200')\n",
    "os.makedirs(save_path, exist_ok=True)\n",
    "\n",
    "callbacks = [\n",
    "    # Save the latest weights to be able to resume the optimization at the end for more epochs.\n",
    "    ModelCheckpoint(os.path.join(save_path, 'last_epoch.ckpt')),\n",
    "\n",
    "    # Save the weights in a new file when the current model is better than all previous models.\n",
    "    ModelCheckpoint(os.path.join(save_path, 'best_epoch_{epoch}.ckpt'), monitor='val_acc', mode='max', \n",
    "                    save_best_only=True, restore_best=True, verbose=True),\n",
    "\n",
    "    # Save the losses and accuracies for each epoch in a TSV.\n",
    "    CSVLogger(os.path.join(save_path, 'log.tsv'), separator='\\t'),\n",
    "]"
   ]
  },
  {
   "cell_type": "markdown",
   "metadata": {},
   "source": [
    "Finally, we start the training and output its final test loss, accuracy, and micro F1-score.\n",
    "\n",
    "> Note that the F1-score is quite similar to the accuracy since the dataset is very balanced."
   ]
  },
  {
   "cell_type": "code",
   "execution_count": 12,
   "metadata": {},
   "outputs": [
    {
     "name": "stdout",
     "output_type": "stream",
     "text": [
      "\u001b[93mEpoch: \u001b[94m1/30 \u001b[93mStep: \u001b[94m58/58 \u001b[93m100.00% |\u001b[92m█████████████████████████\u001b[93m|\u001b[32m5.56s \u001b[93mloss:\u001b[96m 4.961356\u001b[93m acc:\u001b[96m 4.622871\u001b[93m fscore_micro:\u001b[96m 0.046229\u001b[93m val_loss:\u001b[96m 4.311240\u001b[93m val_acc:\u001b[96m 9.646018\u001b[93m val_fscore_micro:\u001b[96m 0.096460\u001b[0m\n",
      "Epoch 1: val_acc improved from -inf to 9.64602, saving file to saves/cub200/best_epoch_1.ckpt\n",
      "\u001b[93mEpoch: \u001b[94m2/30 \u001b[93mStep: \u001b[94m58/58 \u001b[93m100.00% |\u001b[92m█████████████████████████\u001b[93m|\u001b[32m5.38s \u001b[93mloss:\u001b[96m 3.695623\u001b[93m acc:\u001b[96m 24.763450\u001b[93m fscore_micro:\u001b[96m 0.247635\u001b[93m val_loss:\u001b[96m 3.564541\u001b[93m val_acc:\u001b[96m 26.548673\u001b[93m val_fscore_micro:\u001b[96m 0.265487\u001b[0m\n",
      "Epoch 2: val_acc improved from 9.64602 to 26.54867, saving file to saves/cub200/best_epoch_2.ckpt\n",
      "\u001b[93mEpoch: \u001b[94m3/30 \u001b[93mStep: \u001b[94m58/58 \u001b[93m100.00% |\u001b[92m█████████████████████████\u001b[93m|\u001b[32m5.49s \u001b[93mloss:\u001b[96m 2.881930\u001b[93m acc:\u001b[96m 44.498513\u001b[93m fscore_micro:\u001b[96m 0.444985\u001b[93m val_loss:\u001b[96m 3.115291\u001b[93m val_acc:\u001b[96m 31.238938\u001b[93m val_fscore_micro:\u001b[96m 0.312389\u001b[0m\n",
      "Epoch 3: val_acc improved from 26.54867 to 31.23894, saving file to saves/cub200/best_epoch_3.ckpt\n",
      "\u001b[93mEpoch: \u001b[94m4/30 \u001b[93mStep: \u001b[94m58/58 \u001b[93m100.00% |\u001b[92m█████████████████████████\u001b[93m|\u001b[32m5.36s \u001b[93mloss:\u001b[96m 2.341399\u001b[93m acc:\u001b[96m 56.339551\u001b[93m fscore_micro:\u001b[96m 0.563396\u001b[93m val_loss:\u001b[96m 2.827205\u001b[93m val_acc:\u001b[96m 38.318584\u001b[93m val_fscore_micro:\u001b[96m 0.383186\u001b[0m\n",
      "Epoch 4: val_acc improved from 31.23894 to 38.31858, saving file to saves/cub200/best_epoch_4.ckpt\n",
      "\u001b[93mEpoch: \u001b[94m5/30 \u001b[93mStep: \u001b[94m58/58 \u001b[93m100.00% |\u001b[92m█████████████████████████\u001b[93m|\u001b[32m5.77s \u001b[93mloss:\u001b[96m 1.952296\u001b[93m acc:\u001b[96m 64.693160\u001b[93m fscore_micro:\u001b[96m 0.646932\u001b[93m val_loss:\u001b[96m 2.637384\u001b[93m val_acc:\u001b[96m 39.734513\u001b[93m val_fscore_micro:\u001b[96m 0.397345\u001b[0m\n",
      "Epoch 5: val_acc improved from 38.31858 to 39.73451, saving file to saves/cub200/best_epoch_5.ckpt\n",
      "\u001b[93mEpoch: \u001b[94m6/30 \u001b[93mStep: \u001b[94m58/58 \u001b[93m100.00% |\u001b[92m█████████████████████████\u001b[93m|\u001b[32m5.72s \u001b[93mloss:\u001b[96m 1.679746\u001b[93m acc:\u001b[96m 70.748851\u001b[93m fscore_micro:\u001b[96m 0.707489\u001b[93m val_loss:\u001b[96m 2.508570\u001b[93m val_acc:\u001b[96m 42.654867\u001b[93m val_fscore_micro:\u001b[96m 0.426549\u001b[0m\n",
      "Epoch 6: val_acc improved from 39.73451 to 42.65487, saving file to saves/cub200/best_epoch_6.ckpt\n",
      "\u001b[93mEpoch: \u001b[94m7/30 \u001b[93mStep: \u001b[94m58/58 \u001b[93m100.00% |\u001b[92m█████████████████████████\u001b[93m|\u001b[32m5.61s \u001b[93mloss:\u001b[96m 1.446490\u001b[93m acc:\u001b[96m 76.831576\u001b[93m fscore_micro:\u001b[96m 0.768316\u001b[93m val_loss:\u001b[96m 2.392009\u001b[93m val_acc:\u001b[96m 43.805310\u001b[93m val_fscore_micro:\u001b[96m 0.438053\u001b[0m\n",
      "Epoch 7: val_acc improved from 42.65487 to 43.80531, saving file to saves/cub200/best_epoch_7.ckpt\n",
      "\u001b[93mEpoch: \u001b[94m8/30 \u001b[93mStep: \u001b[94m58/58 \u001b[93m100.00% |\u001b[92m█████████████████████████\u001b[93m|\u001b[32m5.36s \u001b[93mloss:\u001b[96m 1.301674\u001b[93m acc:\u001b[96m 79.751284\u001b[93m fscore_micro:\u001b[96m 0.797513\u001b[93m val_loss:\u001b[96m 2.314296\u001b[93m val_acc:\u001b[96m 44.955752\u001b[93m val_fscore_micro:\u001b[96m 0.449558\u001b[0m\n",
      "Epoch 8: val_acc improved from 43.80531 to 44.95575, saving file to saves/cub200/best_epoch_8.ckpt\n",
      "\u001b[93mEpoch: \u001b[94m9/30 \u001b[93mStep: \u001b[94m58/58 \u001b[93m100.00% |\u001b[92m█████████████████████████\u001b[93m|\u001b[32m5.74s \u001b[93mloss:\u001b[96m 1.142482\u001b[93m acc:\u001b[96m 82.779130\u001b[93m fscore_micro:\u001b[96m 0.827791\u001b[93m val_loss:\u001b[96m 2.247631\u001b[93m val_acc:\u001b[96m 46.814159\u001b[93m val_fscore_micro:\u001b[96m 0.468142\u001b[0m\n",
      "Epoch 9: val_acc improved from 44.95575 to 46.81416, saving file to saves/cub200/best_epoch_9.ckpt\n",
      "\u001b[93mEpoch: \u001b[94m10/30 \u001b[93mStep: \u001b[94m58/58 \u001b[93m100.00% |\u001b[92m█████████████████████████\u001b[93m|\u001b[32m5.58s \u001b[93mloss:\u001b[96m 1.048388\u001b[93m acc:\u001b[96m 85.320357\u001b[93m fscore_micro:\u001b[96m 0.853204\u001b[93m val_loss:\u001b[96m 2.197464\u001b[93m val_acc:\u001b[96m 47.522124\u001b[93m val_fscore_micro:\u001b[96m 0.475221\u001b[0m\n",
      "Epoch 10: val_acc improved from 46.81416 to 47.52212, saving file to saves/cub200/best_epoch_10.ckpt\n",
      "\u001b[93mEpoch: \u001b[94m11/30 \u001b[93mStep: \u001b[94m58/58 \u001b[93m100.00% |\u001b[92m█████████████████████████\u001b[93m|\u001b[32m5.51s \u001b[93mloss:\u001b[96m 0.939071\u001b[93m acc:\u001b[96m 87.699378\u001b[93m fscore_micro:\u001b[96m 0.876994\u001b[93m val_loss:\u001b[96m 2.168690\u001b[93m val_acc:\u001b[96m 47.787611\u001b[93m val_fscore_micro:\u001b[96m 0.477876\u001b[0m\n",
      "Epoch 11: val_acc improved from 47.52212 to 47.78761, saving file to saves/cub200/best_epoch_11.ckpt\n",
      "\u001b[93mEpoch: \u001b[94m12/30 \u001b[93mStep: \u001b[94m58/58 \u001b[93m100.00% |\u001b[92m█████████████████████████\u001b[93m|\u001b[32m5.54s \u001b[93mloss:\u001b[96m 0.856866\u001b[93m acc:\u001b[96m 89.943228\u001b[93m fscore_micro:\u001b[96m 0.899432\u001b[93m val_loss:\u001b[96m 2.140024\u001b[93m val_acc:\u001b[96m 47.876106\u001b[93m val_fscore_micro:\u001b[96m 0.478761\u001b[0m\n",
      "Epoch 12: val_acc improved from 47.78761 to 47.87611, saving file to saves/cub200/best_epoch_12.ckpt\n",
      "\u001b[93mEpoch: \u001b[94m13/30 \u001b[93mStep: \u001b[94m58/58 \u001b[93m100.00% |\u001b[92m█████████████████████████\u001b[93m|\u001b[32m5.63s \u001b[93mloss:\u001b[96m 0.791417\u001b[93m acc:\u001b[96m 91.213842\u001b[93m fscore_micro:\u001b[96m 0.912138\u001b[93m val_loss:\u001b[96m 2.116254\u001b[93m val_acc:\u001b[96m 49.380531\u001b[93m val_fscore_micro:\u001b[96m 0.493805\u001b[0m\n",
      "Epoch 13: val_acc improved from 47.87611 to 49.38053, saving file to saves/cub200/best_epoch_13.ckpt\n",
      "\u001b[93mEpoch: \u001b[94m14/30 \u001b[93mStep: \u001b[94m58/58 \u001b[93m100.00% |\u001b[92m█████████████████████████\u001b[93m|\u001b[32m5.51s \u001b[93mloss:\u001b[96m 0.723620\u001b[93m acc:\u001b[96m 92.917005\u001b[93m fscore_micro:\u001b[96m 0.929170\u001b[93m val_loss:\u001b[96m 2.094978\u001b[93m val_acc:\u001b[96m 50.088496\u001b[93m val_fscore_micro:\u001b[96m 0.500885\u001b[0m\n",
      "Epoch 14: val_acc improved from 49.38053 to 50.08850, saving file to saves/cub200/best_epoch_14.ckpt\n",
      "\u001b[93mEpoch: \u001b[94m15/30 \u001b[93mStep: \u001b[94m58/58 \u001b[93m100.00% |\u001b[92m█████████████████████████\u001b[93m|\u001b[32m5.39s \u001b[93mloss:\u001b[96m 0.673956\u001b[93m acc:\u001b[96m 93.619897\u001b[93m fscore_micro:\u001b[96m 0.936199\u001b[93m val_loss:\u001b[96m 2.074193\u001b[93m val_acc:\u001b[96m 49.026549\u001b[93m val_fscore_micro:\u001b[96m 0.490265\u001b[0m\n",
      "\u001b[93mEpoch: \u001b[94m16/30 \u001b[93mStep: \u001b[94m58/58 \u001b[93m100.00% |\u001b[92m█████████████████████████\u001b[93m|\u001b[32m5.47s \u001b[93mloss:\u001b[96m 0.633845\u001b[93m acc:\u001b[96m 94.052447\u001b[93m fscore_micro:\u001b[96m 0.940524\u001b[93m val_loss:\u001b[96m 2.041935\u001b[93m val_acc:\u001b[96m 51.238938\u001b[93m val_fscore_micro:\u001b[96m 0.512389\u001b[0m\n",
      "Epoch 16: val_acc improved from 50.08850 to 51.23894, saving file to saves/cub200/best_epoch_16.ckpt\n",
      "\u001b[93mEpoch: \u001b[94m17/30 \u001b[93mStep: \u001b[94m58/58 \u001b[93m100.00% |\u001b[92m█████████████████████████\u001b[93m|\u001b[32m5.69s \u001b[93mloss:\u001b[96m 0.592106\u001b[93m acc:\u001b[96m 95.323060\u001b[93m fscore_micro:\u001b[96m 0.953231\u001b[93m val_loss:\u001b[96m 2.041701\u001b[93m val_acc:\u001b[96m 51.061947\u001b[93m val_fscore_micro:\u001b[96m 0.510619\u001b[0m\n",
      "\u001b[93mEpoch: \u001b[94m18/30 \u001b[93mStep: \u001b[94m58/58 \u001b[93m100.00% |\u001b[92m█████████████████████████\u001b[93m|\u001b[32m5.56s \u001b[93mloss:\u001b[96m 0.555944\u001b[93m acc:\u001b[96m 95.944850\u001b[93m fscore_micro:\u001b[96m 0.959449\u001b[93m val_loss:\u001b[96m 2.040839\u001b[93m val_acc:\u001b[96m 49.292035\u001b[93m val_fscore_micro:\u001b[96m 0.492920\u001b[0m\n",
      "\u001b[93mEpoch: \u001b[94m19/30 \u001b[93mStep: \u001b[94m58/58 \u001b[93m100.00% |\u001b[92m█████████████████████████\u001b[93m|\u001b[32m5.59s \u001b[93mloss:\u001b[96m 0.520716\u001b[93m acc:\u001b[96m 96.945120\u001b[93m fscore_micro:\u001b[96m 0.969451\u001b[93m val_loss:\u001b[96m 2.010073\u001b[93m val_acc:\u001b[96m 51.061947\u001b[93m val_fscore_micro:\u001b[96m 0.510619\u001b[0m\n",
      "\u001b[93mEpoch: \u001b[94m20/30 \u001b[93mStep: \u001b[94m58/58 \u001b[93m100.00% |\u001b[92m█████████████████████████\u001b[93m|\u001b[32m5.67s \u001b[93mloss:\u001b[96m 0.491341\u001b[93m acc:\u001b[96m 96.972155\u001b[93m fscore_micro:\u001b[96m 0.969722\u001b[93m val_loss:\u001b[96m 2.002530\u001b[93m val_acc:\u001b[96m 51.238938\u001b[93m val_fscore_micro:\u001b[96m 0.512389\u001b[0m\n",
      "Epoch 20: val_acc improved from 51.23894 to 51.23894, saving file to saves/cub200/best_epoch_20.ckpt\n",
      "\u001b[93mEpoch: \u001b[94m21/30 \u001b[93mStep: \u001b[94m58/58 \u001b[93m100.00% |\u001b[92m█████████████████████████\u001b[93m|\u001b[32m5.65s \u001b[93mloss:\u001b[96m 0.471278\u001b[93m acc:\u001b[96m 97.350635\u001b[93m fscore_micro:\u001b[96m 0.973506\u001b[93m val_loss:\u001b[96m 1.993102\u001b[93m val_acc:\u001b[96m 50.088496\u001b[93m val_fscore_micro:\u001b[96m 0.500885\u001b[0m\n",
      "\u001b[93mEpoch: \u001b[94m22/30 \u001b[93mStep: \u001b[94m58/58 \u001b[93m100.00% |\u001b[92m█████████████████████████\u001b[93m|\u001b[32m5.69s \u001b[93mloss:\u001b[96m 0.450658\u001b[93m acc:\u001b[96m 97.458773\u001b[93m fscore_micro:\u001b[96m 0.974588\u001b[93m val_loss:\u001b[96m 1.990761\u001b[93m val_acc:\u001b[96m 50.619469\u001b[93m val_fscore_micro:\u001b[96m 0.506195\u001b[0m\n",
      "\u001b[93mEpoch: \u001b[94m23/30 \u001b[93mStep: \u001b[94m58/58 \u001b[93m100.00% |\u001b[92m█████████████████████████\u001b[93m|\u001b[32m5.83s \u001b[93mloss:\u001b[96m 0.419997\u001b[93m acc:\u001b[96m 98.269803\u001b[93m fscore_micro:\u001b[96m 0.982698\u001b[93m val_loss:\u001b[96m 1.985566\u001b[93m val_acc:\u001b[96m 51.238938\u001b[93m val_fscore_micro:\u001b[96m 0.512389\u001b[0m\n"
     ]
    },
    {
     "name": "stdout",
     "output_type": "stream",
     "text": [
      "\u001b[93mEpoch: \u001b[94m24/30 \u001b[93mStep: \u001b[94m58/58 \u001b[93m100.00% |\u001b[92m█████████████████████████\u001b[93m|\u001b[32m5.75s \u001b[93mloss:\u001b[96m 0.405938\u001b[93m acc:\u001b[96m 98.513112\u001b[93m fscore_micro:\u001b[96m 0.985131\u001b[93m val_loss:\u001b[96m 1.992403\u001b[93m val_acc:\u001b[96m 51.150443\u001b[93m val_fscore_micro:\u001b[96m 0.511504\u001b[0m\n",
      "\u001b[93mEpoch: \u001b[94m25/30 \u001b[93mStep: \u001b[94m58/58 \u001b[93m100.00% |\u001b[92m█████████████████████████\u001b[93m|\u001b[32m5.65s \u001b[93mloss:\u001b[96m 0.381293\u001b[93m acc:\u001b[96m 98.648283\u001b[93m fscore_micro:\u001b[96m 0.986483\u001b[93m val_loss:\u001b[96m 1.987791\u001b[93m val_acc:\u001b[96m 51.592920\u001b[93m val_fscore_micro:\u001b[96m 0.515929\u001b[0m\n",
      "Epoch 25: val_acc improved from 51.23894 to 51.59292, saving file to saves/cub200/best_epoch_25.ckpt\n",
      "\u001b[93mEpoch: \u001b[94m26/30 \u001b[93mStep: \u001b[94m58/58 \u001b[93m100.00% |\u001b[92m█████████████████████████\u001b[93m|\u001b[32m5.55s \u001b[93mloss:\u001b[96m 0.366053\u001b[93m acc:\u001b[96m 98.783455\u001b[93m fscore_micro:\u001b[96m 0.987835\u001b[93m val_loss:\u001b[96m 1.987603\u001b[93m val_acc:\u001b[96m 51.504425\u001b[93m val_fscore_micro:\u001b[96m 0.515044\u001b[0m\n",
      "\u001b[93mEpoch: \u001b[94m27/30 \u001b[93mStep: \u001b[94m58/58 \u001b[93m100.00% |\u001b[92m█████████████████████████\u001b[93m|\u001b[32m5.58s \u001b[93mloss:\u001b[96m 0.354526\u001b[93m acc:\u001b[96m 99.432279\u001b[93m fscore_micro:\u001b[96m 0.994323\u001b[93m val_loss:\u001b[96m 1.977563\u001b[93m val_acc:\u001b[96m 51.769912\u001b[93m val_fscore_micro:\u001b[96m 0.517699\u001b[0m\n",
      "Epoch 27: val_acc improved from 51.59292 to 51.76991, saving file to saves/cub200/best_epoch_27.ckpt\n",
      "\u001b[93mEpoch: \u001b[94m28/30 \u001b[93mStep: \u001b[94m58/58 \u001b[93m100.00% |\u001b[92m█████████████████████████\u001b[93m|\u001b[32m5.64s \u001b[93mloss:\u001b[96m 0.340507\u001b[93m acc:\u001b[96m 99.134901\u001b[93m fscore_micro:\u001b[96m 0.991349\u001b[93m val_loss:\u001b[96m 1.975361\u001b[93m val_acc:\u001b[96m 50.530973\u001b[93m val_fscore_micro:\u001b[96m 0.505310\u001b[0m\n",
      "\u001b[93mEpoch: \u001b[94m29/30 \u001b[93mStep: \u001b[94m58/58 \u001b[93m100.00% |\u001b[92m█████████████████████████\u001b[93m|\u001b[32m5.75s \u001b[93mloss:\u001b[96m 0.328226\u001b[93m acc:\u001b[96m 99.134901\u001b[93m fscore_micro:\u001b[96m 0.991349\u001b[93m val_loss:\u001b[96m 1.981094\u001b[93m val_acc:\u001b[96m 51.415929\u001b[93m val_fscore_micro:\u001b[96m 0.514159\u001b[0m\n",
      "\u001b[93mEpoch: \u001b[94m30/30 \u001b[93mStep: \u001b[94m58/58 \u001b[93m100.00% |\u001b[92m█████████████████████████\u001b[93m|\u001b[32m5.49s \u001b[93mloss:\u001b[96m 0.317494\u001b[93m acc:\u001b[96m 99.378210\u001b[93m fscore_micro:\u001b[96m 0.993782\u001b[93m val_loss:\u001b[96m 1.981341\u001b[93m val_acc:\u001b[96m 50.619469\u001b[93m val_fscore_micro:\u001b[96m 0.506195\u001b[0m\n",
      "Restoring model from saves/cub200/best_epoch_27.ckpt\n",
      "Test:\n",
      "\tLoss: 2.0482506379732657\n",
      "\tAccuracy: 50.332226053028805\n",
      "\tF1-score: 0.5033222436904907\n"
     ]
    }
   ],
   "source": [
    "optimizer = optim.SGD(resnet18.fc.parameters(), lr=learning_rate, weight_decay=0.001)\n",
    "loss_function = nn.CrossEntropyLoss()\n",
    "\n",
    "model = Model(resnet18, optimizer, loss_function, \n",
    "              batch_metrics=['accuracy'], epoch_metrics=['f1'],\n",
    "              device=device)\n",
    "\n",
    "model.fit_generator(train_loader, valid_loader, epochs=n_epoch, callbacks=callbacks)\n",
    "\n",
    "test_loss, (test_acc, test_f1) = model.evaluate_generator(test_loader)\n",
    "print('Test:\\n\\tLoss: {}\\n\\tAccuracy: {}\\n\\tF1-score: {}'.format(test_loss, test_acc, test_f1))"
   ]
  },
  {
   "cell_type": "code",
   "execution_count": 13,
   "metadata": {
    "scrolled": false
   },
   "outputs": [
    {
     "name": "stdout",
     "output_type": "stream",
     "text": [
      "    epoch      time   lr      loss        acc  fscore_micro  val_loss  \\\n",
      "0       1  5.561645  0.1  4.961356   4.622871      0.046229  4.311240   \n",
      "1       2  5.384685  0.1  3.695623  24.763450      0.247635  3.564541   \n",
      "2       3  5.490458  0.1  2.881930  44.498513      0.444985  3.115291   \n",
      "3       4  5.355179  0.1  2.341399  56.339551      0.563396  2.827205   \n",
      "4       5  5.765556  0.1  1.952296  64.693160      0.646932  2.637384   \n",
      "5       6  5.724493  0.1  1.679746  70.748851      0.707489  2.508570   \n",
      "6       7  5.614964  0.1  1.446490  76.831576      0.768316  2.392009   \n",
      "7       8  5.360387  0.1  1.301674  79.751284      0.797513  2.314296   \n",
      "8       9  5.740966  0.1  1.142482  82.779130      0.827791  2.247631   \n",
      "9      10  5.579965  0.1  1.048388  85.320357      0.853204  2.197464   \n",
      "10     11  5.513136  0.1  0.939071  87.699378      0.876994  2.168690   \n",
      "11     12  5.535051  0.1  0.856866  89.943228      0.899432  2.140024   \n",
      "12     13  5.630124  0.1  0.791417  91.213842      0.912138  2.116254   \n",
      "13     14  5.513613  0.1  0.723620  92.917005      0.929170  2.094978   \n",
      "14     15  5.392671  0.1  0.673956  93.619897      0.936199  2.074193   \n",
      "15     16  5.465299  0.1  0.633845  94.052447      0.940524  2.041935   \n",
      "16     17  5.685845  0.1  0.592106  95.323060      0.953231  2.041701   \n",
      "17     18  5.556162  0.1  0.555944  95.944850      0.959449  2.040839   \n",
      "18     19  5.585490  0.1  0.520716  96.945120      0.969451  2.010073   \n",
      "19     20  5.674899  0.1  0.491341  96.972155      0.969722  2.002530   \n",
      "20     21  5.650604  0.1  0.471278  97.350635      0.973506  1.993102   \n",
      "21     22  5.690843  0.1  0.450658  97.458773      0.974588  1.990761   \n",
      "22     23  5.825123  0.1  0.419997  98.269803      0.982698  1.985566   \n",
      "23     24  5.747149  0.1  0.405938  98.513112      0.985131  1.992403   \n",
      "24     25  5.647874  0.1  0.381293  98.648283      0.986483  1.987791   \n",
      "25     26  5.553396  0.1  0.366053  98.783455      0.987835  1.987603   \n",
      "26     27  5.576203  0.1  0.354526  99.432279      0.994323  1.977563   \n",
      "27     28  5.643495  0.1  0.340507  99.134901      0.991349  1.975361   \n",
      "28     29  5.745232  0.1  0.328226  99.134901      0.991349  1.981094   \n",
      "29     30  5.490526  0.1  0.317494  99.378210      0.993782  1.981341   \n",
      "\n",
      "      val_acc  val_fscore_micro  \n",
      "0    9.646018          0.096460  \n",
      "1   26.548673          0.265487  \n",
      "2   31.238938          0.312389  \n",
      "3   38.318584          0.383186  \n",
      "4   39.734513          0.397345  \n",
      "5   42.654867          0.426549  \n",
      "6   43.805310          0.438053  \n",
      "7   44.955752          0.449558  \n",
      "8   46.814159          0.468142  \n",
      "9   47.522124          0.475221  \n",
      "10  47.787611          0.477876  \n",
      "11  47.876106          0.478761  \n",
      "12  49.380531          0.493805  \n",
      "13  50.088496          0.500885  \n",
      "14  49.026549          0.490265  \n",
      "15  51.238938          0.512389  \n",
      "16  51.061947          0.510619  \n",
      "17  49.292035          0.492920  \n",
      "18  51.061947          0.510619  \n",
      "19  51.238938          0.512389  \n",
      "20  50.088496          0.500885  \n",
      "21  50.619469          0.506195  \n",
      "22  51.238938          0.512389  \n",
      "23  51.150443          0.511504  \n",
      "24  51.592920          0.515929  \n",
      "25  51.504425          0.515044  \n",
      "26  51.769912          0.517699  \n",
      "27  50.530973          0.505310  \n",
      "28  51.415929          0.514159  \n",
      "29  50.619469          0.506195  \n",
      "Best epoch: 27\n"
     ]
    }
   ],
   "source": [
    "logs = pd.read_csv(os.path.join(save_path, 'log.tsv'), sep='\\t')\n",
    "print(logs)\n",
    "\n",
    "best_epoch_idx = logs['val_acc'].idxmax()\n",
    "best_epoch = int(logs.loc[best_epoch_idx]['epoch'])\n",
    "print(\"Best epoch: %d\" % best_epoch)"
   ]
  },
  {
   "cell_type": "code",
   "execution_count": 14,
   "metadata": {
    "scrolled": true
   },
   "outputs": [
    {
     "data": {
      "image/png": "[encoded data removed]",
      "text/plain": [
       "<Figure size 432x288 with 1 Axes>"
      ]
     },
     "metadata": {
      "needs_background": "light"
     },
     "output_type": "display_data"
    }
   ],
   "source": [
    "metrics = ['loss', 'val_loss']\n",
    "plt.plot(logs['epoch'], logs[metrics])\n",
    "plt.legend(metrics)\n",
    "plt.show()"
   ]
  },
  {
   "cell_type": "code",
   "execution_count": 15,
   "metadata": {
    "pycharm": {
     "name": "#%%\n"
    }
   },
   "outputs": [
    {
     "data": {
      "image/png": "[encoded data removed]",
      "text/plain": [
       "<Figure size 432x288 with 1 Axes>"
      ]
     },
     "metadata": {
      "needs_background": "light"
     },
     "output_type": "display_data"
    }
   ],
   "source": [
    "metrics = ['acc', 'val_acc']\n",
    "plt.plot(logs['epoch'], logs[metrics])\n",
    "plt.legend(metrics)\n",
    "plt.show()"
   ]
  },
  {
   "cell_type": "markdown",
   "metadata": {},
   "source": [
    "Since we have created checkpoints using callbacks, we can restore the best model from those checkpoints and test it."
   ]
  },
  {
   "cell_type": "code",
   "execution_count": 16,
   "metadata": {
    "pycharm": {
     "name": "#%%\n"
    }
   },
   "outputs": [
    {
     "name": "stdout",
     "output_type": "stream",
     "text": [
      "Test:\n",
      "\tLoss: 2.0482506379732657\n",
      "\tAccuracy: 50.332226053028805\n",
      "\tF1-score: 0.5033222436904907\n"
     ]
    }
   ],
   "source": [
    "resnet18 = models.resnet18(pretrained=False, num_classes=num_classes)\n",
    "\n",
    "model = Model(resnet18, 'sgd', 'cross_entropy', \n",
    "              batch_metrics=['accuracy'], epoch_metrics=['f1'],\n",
    "              device=device)\n",
    "\n",
    "model.load_weights(os.path.join(save_path, 'best_epoch_{epoch}.ckpt').format(epoch=best_epoch))\n",
    "\n",
    "test_loss, (test_acc, test_f1) = model.evaluate_generator(test_loader)\n",
    "print('Test:\\n\\tLoss: {}\\n\\tAccuracy: {}\\n\\tF1-score: {}'.format(test_loss, test_acc, test_f1))"
   ]
  },
  {
   "cell_type": "markdown",
   "metadata": {},
   "source": [
    "We can also use the Experiment class to train our network. This class saves checkpoints and logs as above in a directory and allows to stop and resume optimization at will. See documentation for details."
   ]
  },
  {
   "cell_type": "code",
   "execution_count": 17,
   "metadata": {},
   "outputs": [],
   "source": [
    "def experiment_train(epochs):\n",
    "    # Reload the pretrained network and freeze it except for its head.\n",
    "    resnet18 = models.resnet18(pretrained=True)\n",
    "    resnet18.fc = nn.Linear(resnet18.fc.in_features, num_classes)\n",
    "    freeze_weights(resnet18)\n",
    "\n",
    "    # Saves everything into ./saves/cub200_resnet18_experiment\n",
    "    save_path = os.path.join(save_base_dir, 'cub200_resnet18_experiment')\n",
    "    \n",
    "    optimizer = optim.SGD(resnet18.fc.parameters(), lr=learning_rate, weight_decay=0.001)\n",
    "\n",
    "    # Poutyne Experiment\n",
    "    exp = Experiment(save_path, resnet18, device=device, optimizer=optimizer, task='classif')\n",
    "\n",
    "    # Train\n",
    "    exp.train(train_loader, valid_loader, epochs=epochs)\n",
    "\n",
    "    # Test\n",
    "    exp.test(test_loader)"
   ]
  },
  {
   "cell_type": "markdown",
   "metadata": {},
   "source": [
    "Let’s train for 5 epochs."
   ]
  },
  {
   "cell_type": "code",
   "execution_count": 18,
   "metadata": {
    "scrolled": false
   },
   "outputs": [
    {
     "name": "stdout",
     "output_type": "stream",
     "text": [
      "\u001b[93mEpoch: \u001b[94m1/5 \u001b[93mStep: \u001b[94m58/58 \u001b[93m100.00% |\u001b[92m█████████████████████████\u001b[93m|\u001b[32m5.63s \u001b[93mloss:\u001b[96m 4.954251\u001b[93m acc:\u001b[96m 5.244661\u001b[93m fscore_micro:\u001b[96m 0.052447\u001b[93m val_loss:\u001b[96m 4.316018\u001b[93m val_acc:\u001b[96m 9.557522\u001b[93m val_fscore_micro:\u001b[96m 0.095575\u001b[0m\n",
      "Epoch 1: val_acc improved from -inf to 9.55752, saving file to saves/cub200_resnet18_experiment/checkpoint_epoch_1.ckpt\n",
      "\u001b[93mEpoch: \u001b[94m2/5 \u001b[93mStep: \u001b[94m58/58 \u001b[93m100.00% |\u001b[92m█████████████████████████\u001b[93m|\u001b[32m5.42s \u001b[93mloss:\u001b[96m 3.692171\u001b[93m acc:\u001b[96m 24.790484\u001b[93m fscore_micro:\u001b[96m 0.247905\u001b[93m val_loss:\u001b[96m 3.558731\u001b[93m val_acc:\u001b[96m 25.663717\u001b[93m val_fscore_micro:\u001b[96m 0.256637\u001b[0m\n",
      "Epoch 2: val_acc improved from 9.55752 to 25.66372, saving file to saves/cub200_resnet18_experiment/checkpoint_epoch_2.ckpt\n",
      "\u001b[93mEpoch: \u001b[94m3/5 \u001b[93mStep: \u001b[94m58/58 \u001b[93m100.00% |\u001b[92m█████████████████████████\u001b[93m|\u001b[32m5.36s \u001b[93mloss:\u001b[96m 2.894126\u001b[93m acc:\u001b[96m 42.849419\u001b[93m fscore_micro:\u001b[96m 0.428494\u001b[93m val_loss:\u001b[96m 3.104225\u001b[93m val_acc:\u001b[96m 32.035398\u001b[93m val_fscore_micro:\u001b[96m 0.320354\u001b[0m\n",
      "Epoch 3: val_acc improved from 25.66372 to 32.03540, saving file to saves/cub200_resnet18_experiment/checkpoint_epoch_3.ckpt\n",
      "\u001b[93mEpoch: \u001b[94m4/5 \u001b[93mStep: \u001b[94m58/58 \u001b[93m100.00% |\u001b[92m█████████████████████████\u001b[93m|\u001b[32m5.35s \u001b[93mloss:\u001b[96m 2.353159\u001b[93m acc:\u001b[96m 56.123277\u001b[93m fscore_micro:\u001b[96m 0.561233\u001b[93m val_loss:\u001b[96m 2.806954\u001b[93m val_acc:\u001b[96m 39.203540\u001b[93m val_fscore_micro:\u001b[96m 0.392035\u001b[0m\n",
      "Epoch 4: val_acc improved from 32.03540 to 39.20354, saving file to saves/cub200_resnet18_experiment/checkpoint_epoch_4.ckpt\n",
      "\u001b[93mEpoch: \u001b[94m5/5 \u001b[93mStep: \u001b[94m58/58 \u001b[93m100.00% |\u001b[92m█████████████████████████\u001b[93m|\u001b[32m5.59s \u001b[93mloss:\u001b[96m 1.967204\u001b[93m acc:\u001b[96m 64.530954\u001b[93m fscore_micro:\u001b[96m 0.645310\u001b[93m val_loss:\u001b[96m 2.641458\u001b[93m val_acc:\u001b[96m 40.265487\u001b[93m val_fscore_micro:\u001b[96m 0.402655\u001b[0m\n",
      "Epoch 5: val_acc improved from 39.20354 to 40.26549, saving file to saves/cub200_resnet18_experiment/checkpoint_epoch_5.ckpt\n",
      "Restoring model from saves/cub200_resnet18_experiment/checkpoint_epoch_5.ckpt\n",
      "On best model: test_loss: 2.69003, test_acc: 38.9535, test_fscore_micro: 0.389535\n"
     ]
    }
   ],
   "source": [
    "experiment_train(epochs=5)"
   ]
  },
  {
   "cell_type": "markdown",
   "metadata": {},
   "source": [
    "Let’s train for 5 more epochs (10 epochs total)."
   ]
  },
  {
   "cell_type": "code",
   "execution_count": 19,
   "metadata": {
    "scrolled": false
   },
   "outputs": [
    {
     "name": "stdout",
     "output_type": "stream",
     "text": [
      "Loading weights from saves/cub200_resnet18_experiment/checkpoint.ckpt and starting at epoch 6.\n",
      "Loading optimizer state from saves/cub200_resnet18_experiment/checkpoint.optim and starting at epoch 6.\n",
      "\u001b[93mEpoch: \u001b[94m6/10 \u001b[93mStep: \u001b[94m58/58 \u001b[93m100.00% |\u001b[92m█████████████████████████\u001b[93m|\u001b[32m5.95s \u001b[93mloss:\u001b[96m 1.663596\u001b[93m acc:\u001b[96m 72.100568\u001b[93m fscore_micro:\u001b[96m 0.721006\u001b[93m val_loss:\u001b[96m 2.478948\u001b[93m val_acc:\u001b[96m 43.097345\u001b[93m val_fscore_micro:\u001b[96m 0.430973\u001b[0m\n",
      "Epoch 6: val_acc improved from 40.26549 to 43.09735, saving file to saves/cub200_resnet18_experiment/checkpoint_epoch_6.ckpt\n",
      "\u001b[93mEpoch: \u001b[94m7/10 \u001b[93mStep: \u001b[94m58/58 \u001b[93m100.00% |\u001b[92m█████████████████████████\u001b[93m|\u001b[32m5.58s \u001b[93mloss:\u001b[96m 1.441562\u001b[93m acc:\u001b[96m 76.831576\u001b[93m fscore_micro:\u001b[96m 0.768316\u001b[93m val_loss:\u001b[96m 2.380860\u001b[93m val_acc:\u001b[96m 44.070796\u001b[93m val_fscore_micro:\u001b[96m 0.440708\u001b[0m\n",
      "Epoch 7: val_acc improved from 43.09735 to 44.07080, saving file to saves/cub200_resnet18_experiment/checkpoint_epoch_7.ckpt\n",
      "\u001b[93mEpoch: \u001b[94m8/10 \u001b[93mStep: \u001b[94m58/58 \u001b[93m100.00% |\u001b[92m█████████████████████████\u001b[93m|\u001b[32m5.68s \u001b[93mloss:\u001b[96m 1.275281\u001b[93m acc:\u001b[96m 79.778318\u001b[93m fscore_micro:\u001b[96m 0.797783\u001b[93m val_loss:\u001b[96m 2.309123\u001b[93m val_acc:\u001b[96m 45.840708\u001b[93m val_fscore_micro:\u001b[96m 0.458407\u001b[0m\n",
      "Epoch 8: val_acc improved from 44.07080 to 45.84071, saving file to saves/cub200_resnet18_experiment/checkpoint_epoch_8.ckpt\n",
      "\u001b[93mEpoch: \u001b[94m9/10 \u001b[93mStep: \u001b[94m58/58 \u001b[93m100.00% |\u001b[92m█████████████████████████\u001b[93m|\u001b[32m5.70s \u001b[93mloss:\u001b[96m 1.146565\u001b[93m acc:\u001b[96m 83.103542\u001b[93m fscore_micro:\u001b[96m 0.831035\u001b[93m val_loss:\u001b[96m 2.237203\u001b[93m val_acc:\u001b[96m 47.079646\u001b[93m val_fscore_micro:\u001b[96m 0.470796\u001b[0m\n",
      "Epoch 9: val_acc improved from 45.84071 to 47.07965, saving file to saves/cub200_resnet18_experiment/checkpoint_epoch_9.ckpt\n",
      "\u001b[93mEpoch: \u001b[94m10/10 \u001b[93mStep: \u001b[94m58/58 \u001b[93m100.00% |\u001b[92m█████████████████████████\u001b[93m|\u001b[32m5.60s \u001b[93mloss:\u001b[96m 1.032873\u001b[93m acc:\u001b[96m 85.915112\u001b[93m fscore_micro:\u001b[96m 0.859151\u001b[93m val_loss:\u001b[96m 2.212929\u001b[93m val_acc:\u001b[96m 47.079646\u001b[93m val_fscore_micro:\u001b[96m 0.470796\u001b[0m\n",
      "Epoch 10: val_acc improved from 47.07965 to 47.07965, saving file to saves/cub200_resnet18_experiment/checkpoint_epoch_10.ckpt\n",
      "Restoring model from saves/cub200_resnet18_experiment/checkpoint_epoch_10.ckpt\n",
      "On best model: test_loss: 2.27059, test_acc: 46.4286, test_fscore_micro: 0.464286\n"
     ]
    }
   ],
   "source": [
    "# Retrain for 5 more epochs\n",
    "experiment_train(epochs=10)"
   ]
  }
 ],
 "metadata": {
  "accelerator": "GPU",
  "kernelspec": {
   "display_name": "Python 3",
   "language": "python",
   "name": "python3"
  },
  "language_info": {
   "codemirror_mode": {
    "name": "ipython",
    "version": 3
   },
   "file_extension": ".py",
   "mimetype": "text/x-python",
   "name": "python",
   "nbconvert_exporter": "python",
   "pygments_lexer": "ipython3",
   "version": "3.8.5"
  }
 },
 "nbformat": 4,
 "nbformat_minor": 2
}
